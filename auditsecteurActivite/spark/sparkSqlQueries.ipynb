{
 "cells": [
  {
   "cell_type": "code",
   "execution_count": 23,
   "id": "0c377392",
   "metadata": {},
   "outputs": [],
   "source": [
    "# PYSPARK"
   ]
  },
  {
   "cell_type": "code",
   "execution_count": null,
   "id": "93b1d790",
   "metadata": {},
   "outputs": [],
   "source": [
    " #importation du csv\n",
    "    df = spark.read.option(\"header\",\"true\").csv('C:/BigdataWork/spark/bin/chiffres-cles-2018.csv', sep=';')\n",
    "    \n",
    "#afficher le schéma\n",
    "\n",
    "    df.printSchema()"
   ]
  },
  {
   "cell_type": "code",
   "execution_count": null,
   "id": "6ade3bd8",
   "metadata": {},
   "outputs": [],
   "source": [
    "# convertion de la date d'immatriculation du type String au type date \n",
    "\n",
    "    from pyspark.sql.functions import *\n",
    "    df1 = df.withColumn(\"Date immatriculation\", to_date(df[\"Date immatriculation\"], 'dd/MM/yyyy'))\n",
    "\n",
    "    \n",
    "    \n",
    "#affichage du schéma\n",
    "\n",
    "    df1.printSchema()"
   ]
  },
  {
   "cell_type": "code",
   "execution_count": null,
   "id": "a5efb45e",
   "metadata": {},
   "outputs": [],
   "source": [
    "# liste des entreprises les plus anciennes\n",
    "\n",
    "    df1 = df1.na.drop(subset=[\"Date immatriculation\"])\n",
    "    df1.select(\"DÃ©nomination\", \"Date immatriculation\").sort([\"Date immatriculation\"], ascending = True).show(10)\n"
   ]
  },
  {
   "cell_type": "code",
   "execution_count": null,
   "id": "00bf9d67",
   "metadata": {},
   "outputs": [],
   "source": [
    "# convert string to int\n",
    "\n",
    "      df2 = df.withColumn(\"CA 3\", df[\"CA 3\"].cast('int')).withColumn(\"CA 1\", df[\"CA 1\"].cast('int')).withColumn(\"CA 2\", df[\"CA 2\"].cast('int'))\n",
    "      df2.printSchema()\n",
    "\n",
    "\n",
    "# remplacer le vide par 0\n",
    "\n",
    " dg = df2.na.fill(value=0,subset=[\"CA 1\", \"CA 2\", \"CA 3\"])\n",
    "    \n",
    "df3 = dg.select(\"DÃ©nomination\", col(\"CA 1\") , col(\"CA 2\") , col(\"CA 3\")).show()\n"
   ]
  },
  {
   "cell_type": "code",
   "execution_count": null,
   "id": "aa408335",
   "metadata": {},
   "outputs": [],
   "source": [
    "# entreprises avec le plus gros chiffre d'affaire\n",
    "\n",
    " df3 = dg.select(\"DÃ©nomination\", (col(\"CA 1\") + col(\"CA 2\") + col(\"CA 3\")).alias(\"sum\")).sort([\"sum\"], ascending = False).show(3)"
   ]
  },
  {
   "cell_type": "code",
   "execution_count": null,
   "id": "7fdb49f6",
   "metadata": {},
   "outputs": [],
   "source": [
    "# les entreprises qui embauches le moins de personnes\n",
    "\n",
    "df2 = df.withColumn(\"Effectif 3\", df[\"Effectif 3\"].cast('int')).withColumn(\"Effectif 1\", df[\"Effectif 1\"].cast('int')).withColumn(\"Effectif 2\", df[\"Effectif 2\"].cast('int'))\n",
    "\n",
    "df2 = df2.na.fill(value=0,subset=[\"Effectif 1\", \"Effectif 2\", \"Effectif 3\"])\n",
    "\n",
    "df2 = df2.select(\"DÃ©nomination\", (col(\"Effectif 1\") + col(\"Effectif 2\") + col(\"Effectif 3\")).alias(\"sum\")).sort([\"sum\"], ascending = True).show(5)\n"
   ]
  },
  {
   "cell_type": "code",
   "execution_count": null,
   "id": "3e2da993",
   "metadata": {},
   "outputs": [],
   "source": [
    "#Quelles sont les codes naf qui embauche le plus\n",
    "\n",
    "df2 = df.withColumn(\"Effectif 3\", df[\"Effectif 3\"].cast('int')).withColumn(\"Effectif 1\", df[\"Effectif 1\"].cast('int')).withColumn(\"Effectif 2\", df[\"Effectif 2\"].cast('int'))\n",
    "\n",
    "df2 = df2.na.fill(value=0,subset=[\"Effectif 1\", \"Effectif 2\", \"Effectif 3\"])\n",
    "\n",
    "df2 = df2.select(\"DÃ©nomination\", \"Nic\", (col(\"Effectif 1\") + col(\"Effectif 2\") + col(\"Effectif 3\")).alias(\"sum\")).sort([\"sum\"], ascending = False).show(5)\n"
   ]
  },
  {
   "cell_type": "code",
   "execution_count": null,
   "id": "11ac01b8",
   "metadata": {},
   "outputs": [],
   "source": [
    "# SCALA"
   ]
  },
  {
   "cell_type": "code",
   "execution_count": null,
   "id": "eb6c2434",
   "metadata": {},
   "outputs": [],
   "source": [
    "# importation du csv\n",
    "\n",
    "val path = \"C:/BigdataWork/spark/bin/chiffres-cles-2018.csv\"\n",
    "\n",
    "val df =  spark.read.option(\"delimiter\", \";\").option(\"header\", \"true\").csv(path)\n",
    "\n",
    "df.show()\n",
    "\n"
   ]
  }
 ],
 "metadata": {
  "kernelspec": {
   "display_name": "Python 3 (ipykernel)",
   "language": "python",
   "name": "python3"
  },
  "language_info": {
   "codemirror_mode": {
    "name": "ipython",
    "version": 3
   },
   "file_extension": ".py",
   "mimetype": "text/x-python",
   "name": "python",
   "nbconvert_exporter": "python",
   "pygments_lexer": "ipython3",
   "version": "3.10.4"
  }
 },
 "nbformat": 4,
 "nbformat_minor": 5
}
